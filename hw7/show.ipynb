{
 "cells": [
  {
   "cell_type": "markdown",
   "metadata": {},
   "source": [
    "# 轉換成波型圖(未濾波 vs 濾波)"
   ]
  },
  {
   "cell_type": "code",
   "execution_count": null,
   "metadata": {},
   "outputs": [],
   "source": [
    "import wave\n",
    "import numpy as np\n",
    "import matplotlib.pyplot as plt\n",
    "\n",
    "def plot_waveform(wav_file):\n",
    "    # 打開 WAV 文件\n",
    "    with wave.open(wav_file, 'rb') as wf:\n",
    "        # 獲取參數\n",
    "        params = wf.getparams()\n",
    "        num_frames = params.nframes\n",
    "        frame_rate = params.framerate\n",
    "        \n",
    "        # 讀取所有幀\n",
    "        frames = wf.readframes(num_frames)\n",
    "        \n",
    "        # 將二進制數據轉換為 NumPy 數組\n",
    "        samples = np.frombuffer(frames, dtype=np.int16)\n",
    "        \n",
    "        # 計算時間\n",
    "        time = np.arange(0, num_frames) / frame_rate\n",
    "        \n",
    "        # 繪製波形圖\n",
    "        plt.figure(figsize=(10, 4))\n",
    "        plt.plot(time, samples, color='b')\n",
    "        plt.xlabel('Time (s)')\n",
    "        plt.ylabel('Amplitude')\n",
    "        plt.title('Waveform')\n",
    "        plt.grid(True)\n",
    "        plt.show()\n",
    "\n",
    "# 輸入音頻文件\n",
    "wav_file = \"raw.wav\"\n",
    "\n",
    "# 繪製波形圖\n",
    "plot_waveform(wav_file)\n"
   ]
  },
  {
   "cell_type": "code",
   "execution_count": null,
   "metadata": {},
   "outputs": [],
   "source": [
    "wav_file = \"filter.wav\"\n",
    "\n",
    "# 繪製波形圖\n",
    "plot_waveform(wav_file)"
   ]
  },
  {
   "cell_type": "markdown",
   "metadata": {},
   "source": [
    "# 轉換成頻譜圖(未濾波 vs 濾波)"
   ]
  },
  {
   "cell_type": "code",
   "execution_count": null,
   "metadata": {},
   "outputs": [],
   "source": [
    "import wave\n",
    "import numpy as np\n",
    "import matplotlib.pyplot as plt\n",
    "from scipy.fft import fft\n",
    "\n",
    "def plot_spectrum(wav_file):\n",
    "    # 打開 WAV 文件\n",
    "    with wave.open(wav_file, 'rb') as wf:\n",
    "        # 獲取參數\n",
    "        params = wf.getparams()\n",
    "        num_frames = params.nframes\n",
    "        frame_rate = params.framerate\n",
    "        \n",
    "        # 讀取所有幀\n",
    "        frames = wf.readframes(num_frames)\n",
    "        \n",
    "        # 將二進制數據轉換為 NumPy 數組\n",
    "        samples = np.frombuffer(frames, dtype=np.int16)\n",
    "        \n",
    "        # 計算 FFT\n",
    "        fft_output = fft(samples)\n",
    "        \n",
    "        # 計算頻率\n",
    "        freqs = np.fft.fftfreq(len(fft_output), 1.0 / frame_rate)\n",
    "        \n",
    "        # 只保留正頻率，並且切除前 20 個頻率(雜訊不重要)\n",
    "        positive_freqs = freqs[:len(freqs)//2]\n",
    "        magnitude = np.abs(fft_output[:len(fft_output)//2])\n",
    "        positive_freqs = positive_freqs[20:]\n",
    "        magnitude = magnitude[20:]\n",
    "        # 繪製頻譜圖\n",
    "        plt.figure(figsize=(10, 4))\n",
    "        plt.plot(positive_freqs, magnitude, color='b')\n",
    "        plt.xlabel('Frequency (Hz)')\n",
    "        plt.ylabel('Magnitude')\n",
    "        plt.title('Spectrum')\n",
    "        plt.grid(True)\n",
    "        plt.show()\n",
    "\n",
    "# 輸入音頻文件\n",
    "wav_file = \"raw.wav\"\n",
    "\n",
    "# 繪製頻譜圖\n",
    "plot_spectrum(wav_file)\n"
   ]
  },
  {
   "cell_type": "code",
   "execution_count": null,
   "metadata": {},
   "outputs": [],
   "source": [
    "# 輸入音頻文件\n",
    "wav_file = \"filter.wav\"\n",
    "\n",
    "# 繪製頻譜圖\n",
    "plot_spectrum(wav_file)\n"
   ]
  }
 ],
 "metadata": {
  "language_info": {
   "name": "python"
  }
 },
 "nbformat": 4,
 "nbformat_minor": 2
}
